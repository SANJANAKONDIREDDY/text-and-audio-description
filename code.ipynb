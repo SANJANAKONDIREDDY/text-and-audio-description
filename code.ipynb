{
 "cells": [
  {
   "cell_type": "code",
   "execution_count": 5,
   "id": "6bb3db55",
   "metadata": {},
   "outputs": [
    {
     "name": "stdout",
     "output_type": "stream",
     "text": [
      "Requirement already satisfied: transformers in c:\\users\\sanja\\anaconda3\\lib\\site-packages (4.37.2)\n",
      "Requirement already satisfied: filelock in c:\\users\\sanja\\anaconda3\\lib\\site-packages (from transformers) (3.9.0)\n",
      "Requirement already satisfied: huggingface-hub<1.0,>=0.19.3 in c:\\users\\sanja\\anaconda3\\lib\\site-packages (from transformers) (0.20.3)\n",
      "Requirement already satisfied: numpy>=1.17 in c:\\users\\sanja\\anaconda3\\lib\\site-packages (from transformers) (1.24.3)\n",
      "Requirement already satisfied: packaging>=20.0 in c:\\users\\sanja\\anaconda3\\lib\\site-packages (from transformers) (23.0)\n",
      "Requirement already satisfied: pyyaml>=5.1 in c:\\users\\sanja\\anaconda3\\lib\\site-packages (from transformers) (6.0)\n",
      "Requirement already satisfied: regex!=2019.12.17 in c:\\users\\sanja\\anaconda3\\lib\\site-packages (from transformers) (2022.7.9)\n",
      "Requirement already satisfied: requests in c:\\users\\sanja\\anaconda3\\lib\\site-packages (from transformers) (2.29.0)\n",
      "Requirement already satisfied: tokenizers<0.19,>=0.14 in c:\\users\\sanja\\anaconda3\\lib\\site-packages (from transformers) (0.15.1)\n",
      "Requirement already satisfied: safetensors>=0.4.1 in c:\\users\\sanja\\anaconda3\\lib\\site-packages (from transformers) (0.4.2)\n",
      "Requirement already satisfied: tqdm>=4.27 in c:\\users\\sanja\\anaconda3\\lib\\site-packages (from transformers) (4.65.0)\n",
      "Requirement already satisfied: fsspec>=2023.5.0 in c:\\users\\sanja\\anaconda3\\lib\\site-packages (from huggingface-hub<1.0,>=0.19.3->transformers) (2023.12.2)\n",
      "Requirement already satisfied: typing-extensions>=3.7.4.3 in c:\\users\\sanja\\anaconda3\\lib\\site-packages (from huggingface-hub<1.0,>=0.19.3->transformers) (4.9.0)\n",
      "Requirement already satisfied: colorama in c:\\users\\sanja\\anaconda3\\lib\\site-packages (from tqdm>=4.27->transformers) (0.4.6)\n",
      "Requirement already satisfied: charset-normalizer<4,>=2 in c:\\users\\sanja\\anaconda3\\lib\\site-packages (from requests->transformers) (2.0.4)\n",
      "Requirement already satisfied: idna<4,>=2.5 in c:\\users\\sanja\\anaconda3\\lib\\site-packages (from requests->transformers) (2.10)\n",
      "Requirement already satisfied: urllib3<1.27,>=1.21.1 in c:\\users\\sanja\\anaconda3\\lib\\site-packages (from requests->transformers) (1.26.16)\n",
      "Requirement already satisfied: certifi>=2017.4.17 in c:\\users\\sanja\\anaconda3\\lib\\site-packages (from requests->transformers) (2023.5.7)\n",
      "Requirement already satisfied: gtts in c:\\users\\sanja\\anaconda3\\lib\\site-packages (2.5.1)\n",
      "Requirement already satisfied: requests<3,>=2.27 in c:\\users\\sanja\\anaconda3\\lib\\site-packages (from gtts) (2.29.0)\n",
      "Requirement already satisfied: click<8.2,>=7.1 in c:\\users\\sanja\\anaconda3\\lib\\site-packages (from gtts) (8.0.4)\n",
      "Requirement already satisfied: colorama in c:\\users\\sanja\\anaconda3\\lib\\site-packages (from click<8.2,>=7.1->gtts) (0.4.6)\n",
      "Requirement already satisfied: charset-normalizer<4,>=2 in c:\\users\\sanja\\anaconda3\\lib\\site-packages (from requests<3,>=2.27->gtts) (2.0.4)\n",
      "Requirement already satisfied: idna<4,>=2.5 in c:\\users\\sanja\\anaconda3\\lib\\site-packages (from requests<3,>=2.27->gtts) (2.10)\n",
      "Requirement already satisfied: urllib3<1.27,>=1.21.1 in c:\\users\\sanja\\anaconda3\\lib\\site-packages (from requests<3,>=2.27->gtts) (1.26.16)\n",
      "Requirement already satisfied: certifi>=2017.4.17 in c:\\users\\sanja\\anaconda3\\lib\\site-packages (from requests<3,>=2.27->gtts) (2023.5.7)\n"
     ]
    },
    {
     "name": "stderr",
     "output_type": "stream",
     "text": [
      "C:\\Users\\sanja\\anaconda3\\Lib\\site-packages\\transformers\\generation\\utils.py:1133: UserWarning: Using the model-agnostic default `max_length` (=20) to control the generation length. We recommend setting `max_new_tokens` to control the maximum length of the generation.\n",
      "  warnings.warn(\n"
     ]
    },
    {
     "name": "stdout",
     "output_type": "stream",
     "text": [
      "Description of the image:\n",
      "a little girl standing on the beach looking at the ocean\n"
     ]
    }
   ],
   "source": [
    "! pip install transformers\n",
    "! pip install gtts\n",
    "from PIL import Image\n",
    "from transformers import BlipProcessor, BlipForConditionalGeneration\n",
    "from gtts import gTTS\n",
    "import os\n",
    "\n",
    "#This function takes the path to an image file and processes it to generate an audio description.\n",
    "def describe_image_with_audio(image_path):\n",
    "    try:\n",
    "        #Load the image: Opens the image from the given path.\n",
    "        #Resize the image: Resizes the image to 512x512 pixels to ensure it matches the expected input size for the model.\n",
    "\n",
    "        image = Image.open(image_path)\n",
    "        image = image.resize((512, 512))\n",
    "\n",
    "       #BlipProcessor: Prepares the image for input into the model.\n",
    "       #BlipForConditionalGeneration: A pre-trained model that generates captions for images.\n",
    "        processor = BlipProcessor.from_pretrained(\"Salesforce/blip-image-captioning-base\")\n",
    "        model = BlipForConditionalGeneration.from_pretrained(\"Salesforce/blip-image-captioning-base\")\n",
    "\n",
    "        # Tokenize and generate description\n",
    "        inputs = processor(images=image, return_tensors=\"pt\")\n",
    "        out = model.generate(**inputs)\n",
    "\n",
    "        # Decode the generated description\n",
    "        description = processor.decode(out[0], skip_special_tokens=True)\n",
    "\n",
    "        # Print and return the text description\n",
    "        print(\"Description of the image:\")\n",
    "        print(description)\n",
    "\n",
    "        # Convert text description to audio\n",
    "        tts = gTTS(description, lang='en')\n",
    "        audio_file_path = 'output_audio.mp3'\n",
    "        tts.save(audio_file_path)\n",
    "\n",
    "        return audio_file_path\n",
    "    \n",
    "    #Catches and prints any errors that occur during processing.\n",
    "    except Exception as e:\n",
    "        print(f\"Error: {e}\")\n",
    "    return None\n",
    "\n",
    "# give the image path to your image file\n",
    "image_path = \"C:\\\\Users\\\\sanja\\Desktop\\\\SRP IMAGES\\\\srp10.webp\"\n",
    "\n",
    "# Call the describe_image_with_audio function with the provided image path\n",
    "audio_output_path = describe_image_with_audio(image_path)\n",
    "\n",
    "if audio_output_path:\n",
    "    # Play the generated audio (you may need a suitable audio player)\n",
    "    os.system(\"start \" + audio_output_path)\n",
    "    \n",
    "    #Error message: Prints a message if audio generation fails.\n",
    "else:\n",
    "    print(\"Failed to generate audio.\")\n"
   ]
  },
  {
   "cell_type": "code",
   "execution_count": null,
   "id": "02978ae0",
   "metadata": {},
   "outputs": [],
   "source": []
  }
 ],
 "metadata": {
  "kernelspec": {
   "display_name": "Python 3 (ipykernel)",
   "language": "python",
   "name": "python3"
  },
  "language_info": {
   "codemirror_mode": {
    "name": "ipython",
    "version": 3
   },
   "file_extension": ".py",
   "mimetype": "text/x-python",
   "name": "python",
   "nbconvert_exporter": "python",
   "pygments_lexer": "ipython3",
   "version": "3.11.3"
  }
 },
 "nbformat": 4,
 "nbformat_minor": 5
}
